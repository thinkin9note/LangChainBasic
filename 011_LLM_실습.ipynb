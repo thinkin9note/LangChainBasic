{
  "cells": [
    {
      "cell_type": "markdown",
      "source": [
        "### 필수 라이브러리 설치 및 로드하기(+ API KEY 설정)"
      ],
      "metadata": {
        "id": "uj_V71IfvFNB"
      }
    },
    {
      "cell_type": "code",
      "source": [
        "!pip install -q langchain openai langchain-openai"
      ],
      "metadata": {
        "id": "p59qdp_kk8M6"
      },
      "execution_count": null,
      "outputs": []
    },
    {
      "cell_type": "code",
      "execution_count": null,
      "metadata": {
        "id": "Z-CRiU8tdrdX"
      },
      "outputs": [],
      "source": [
        "#API KEY 저장을 위한 os 라이브러리 호출\n",
        "import os\n",
        "\n",
        "#OPENAI API키 저장\n",
        "#API KEY 발급 페이지: https://platform.openai.com/docs/guides/gpt/completions-api\n",
        "os.environ[\"OPENAI_API_KEY\"] = 'YOUR_API_KEY'"
      ]
    },
    {
      "cell_type": "markdown",
      "source": [
        "### (1) API를 통해 GPT-3, ChatGPT와 대화해보기"
      ],
      "metadata": {
        "id": "3_671qNBu7El"
      }
    },
    {
      "cell_type": "markdown",
      "source": [
        "**langchain_openai의 OpenAI() 기본 모델은 'gpt-3.5-turbo-instruct'입니다.**\n",
        "![image.png](data:image/png;base64,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)\n",
        "**해당 모델은 Completion endpoint를 사용할 수 있으나, 이후 모델은 ChatCompletion을 활용해야합니다.**\n",
        "![image.png](data:image/png;base64,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)"
      ],
      "metadata": {
        "id": "04g8VaxbggUp"
      }
    },
    {
      "cell_type": "code",
      "source": [
        "from langchain_openai import OpenAI\n",
        "llm = OpenAI()\n",
        "result = llm.invoke('왜 파이썬이 가장 인기있는 프로그래밍 언어야?')\n",
        "print(result)"
      ],
      "metadata": {
        "id": "Ra-kD_ILNTut"
      },
      "execution_count": null,
      "outputs": []
    },
    {
      "cell_type": "code",
      "source": [
        "from langchain_openai import OpenAI\n",
        "llm = OpenAI()\n",
        "llm = OpenAI(model_name = 'gpt-3.5-turbo-instruct', max_tokens = -1)\n",
        "result = llm.invoke('왜 파이썬이 가장 인기있는 프로그래밍 언어야?')\n",
        "print(result)"
      ],
      "metadata": {
        "id": "AlhiOh4wlBNB"
      },
      "execution_count": null,
      "outputs": []
    },
    {
      "cell_type": "markdown",
      "source": [
        "ChatGPT API는 기본 OpenAI LLM들과 다른 Input 형식을 갖고 있습니다.\n",
        "\n",
        "ChatGPT는 대화에 특화된 LLM인만큼, 아래와 같은 2가지 독특한 매개변수를 지닙니다.\n",
        "\n",
        "---\n",
        "\n",
        "(1) SystemMessage: ChatGPT에게 역할을 부여하여, 대화의 맥락을 설정하는 메세지\n",
        "\n",
        "(2) HumanMessage: 사용자가 ChatGPT에게 대화 또는 요청을 위해 보내는 메세지\n",
        "\n",
        "위 두가지 형식을 적절히 활용하면, LLM을 더욱 효과적으로 사용할 수 있습니다."
      ],
      "metadata": {
        "id": "loZhVXkoDOyd"
      }
    },
    {
      "cell_type": "code",
      "source": [
        "from langchain_openai import ChatOpenAI\n",
        "\n",
        "chatgpt = ChatOpenAI(model_name=\"gpt-3.5-turbo\", max_tokens = 512)\n",
        "answer = chatgpt.invoke(\"왜 파이썬이 가장 인기있는 프로그래밍 언어야?\")\n",
        "print(answer.content)"
      ],
      "metadata": {
        "id": "lNpEGFZRvUSc",
        "colab": {
          "base_uri": "https://localhost:8080/"
        },
        "outputId": "d5293282-887b-4f5e-ab75-56289ab1a4f3"
      },
      "execution_count": null,
      "outputs": [
        {
          "output_type": "stream",
          "name": "stdout",
          "text": [
            "파이썬이 가장 인기있는 프로그래밍 언어인 이유는 다음과 같습니다:\n",
            "\n",
            "1. 쉽고 간결한 문법: 파이썬은 읽기 쉬운 문법을 가지고 있어 비교적 쉽게 배울 수 있습니다. 또한 간결한 코드 작성을 지원하기 때문에 생산성이 높습니다.\n",
            "\n",
            "2. 다양한 용도로 사용 가능: 파이썬은 웹 개발, 데이터 분석, 인공지능, 자동화 등 다양한 분야에서 사용될 수 있습니다. 또한 여러 라이브러리와 프레임워크가 존재하여 다양한 작업을 수행할 수 있습니다.\n",
            "\n",
            "3. 커뮤니티와 생태계: 파이썬은 개발자들 사이에서 매우 활발한 커뮤니티를 가지고 있습니다. 이를 통해 다양한 문제에 대한 해결책을 찾을 수 있고, 지속적인 개발과 지원이 이루어집니다. 또한 파이썬은 다양한 패키지 매니저와 통합 개발 환경을 제공하여 개발 과정을 편리하게 만들어 줍니다.\n",
            "\n",
            "4. 크로스 플랫폼 지원: 파이썬은 다양한 운영체제에서 동작할 수 있습니다. 따라서 어떤 환경에서도 파이썬을 사용할 수 있으며, 이는 파이썬의 이식성을 높여줍니다.\n",
            "\n",
            "5. 대학과 교육에서의 인기: 파이썬은 프로그래밍 교육에 많이 사용되고 있습니다. 비전공자나 초보자도 비\n"
          ]
        }
      ]
    },
    {
      "cell_type": "code",
      "source": [
        "answer"
      ],
      "metadata": {
        "colab": {
          "base_uri": "https://localhost:8080/"
        },
        "id": "RKZbTRHjQWLF",
        "outputId": "f1ca2dc7-69e4-4f66-9d1a-057b66c8901d"
      },
      "execution_count": null,
      "outputs": [
        {
          "output_type": "execute_result",
          "data": {
            "text/plain": [
              "AIMessage(content='파이썬이 가장 인기있는 프로그래밍 언어인 이유는 다음과 같습니다:\\n\\n1. 쉽고 간결한 문법: 파이썬은 읽기 쉬운 문법을 가지고 있어 비교적 쉽게 배울 수 있습니다. 또한 간결한 코드 작성을 지원하기 때문에 생산성이 높습니다.\\n\\n2. 다양한 용도로 사용 가능: 파이썬은 웹 개발, 데이터 분석, 인공지능, 자동화 등 다양한 분야에서 사용될 수 있습니다. 또한 여러 라이브러리와 프레임워크가 존재하여 다양한 작업을 수행할 수 있습니다.\\n\\n3. 커뮤니티와 생태계: 파이썬은 개발자들 사이에서 매우 활발한 커뮤니티를 가지고 있습니다. 이를 통해 다양한 문제에 대한 해결책을 찾을 수 있고, 지속적인 개발과 지원이 이루어집니다. 또한 파이썬은 다양한 패키지 매니저와 통합 개발 환경을 제공하여 개발 과정을 편리하게 만들어 줍니다.\\n\\n4. 크로스 플랫폼 지원: 파이썬은 다양한 운영체제에서 동작할 수 있습니다. 따라서 어떤 환경에서도 파이썬을 사용할 수 있으며, 이는 파이썬의 이식성을 높여줍니다.\\n\\n5. 대학과 교육에서의 인기: 파이썬은 프로그래밍 교육에 많이 사용되고 있습니다. 비전공자나 초보자도 비')"
            ]
          },
          "metadata": {},
          "execution_count": 7
        }
      ]
    },
    {
      "cell_type": "markdown",
      "source": [
        "### (2) 매개변수 조절해보기"
      ],
      "metadata": {
        "id": "c8SCTlM8RwXJ"
      }
    },
    {
      "cell_type": "markdown",
      "source": [
        "#### Temperature의 의미 이해해보기"
      ],
      "metadata": {
        "id": "lI4_65iTkIvC"
      }
    },
    {
      "cell_type": "code",
      "source": [
        "chatgpt_temp0_1 = ChatOpenAI(model_name=\"gpt-3.5-turbo\", temperature = 0, max_tokens = 512)\n",
        "chatgpt_temp0_2 = ChatOpenAI(model_name=\"gpt-3.5-turbo\", temperature = 0, max_tokens = 512)\n",
        "chatgpt_temp1_1 = ChatOpenAI(model_name=\"gpt-3.5-turbo\", temperature = 1, max_tokens = 512)\n",
        "chatgpt_temp1_2 = ChatOpenAI(model_name=\"gpt-3.5-turbo\", temperature = 1, max_tokens = 512)\n",
        "\n",
        "model_list = [chatgpt_temp0_1, chatgpt_temp0_2, chatgpt_temp1_1, chatgpt_temp1_2]\n",
        "\n",
        "for i in model_list:\n",
        "    answer = i.invoke(\"왜 파이썬이 가장 인기있는 프로그래밍 언어야?\", max_tokens = 128)\n",
        "    print(\"-\"*100)\n",
        "    print(\">>>\",answer.content)"
      ],
      "metadata": {
        "id": "MAVXlKhME4Ri",
        "colab": {
          "base_uri": "https://localhost:8080/"
        },
        "outputId": "2e59b973-2440-4ed6-9779-7577e5f85076"
      },
      "execution_count": null,
      "outputs": [
        {
          "output_type": "stream",
          "name": "stdout",
          "text": [
            "----------------------------------------------------------------------------------------------------\n",
            ">>> 파이썬이 가장 인기있는 프로그래밍 언어인 이유는 다음과 같습니다:\n",
            "\n",
            "1. 쉬운 문법: 파이썬은 간결하고 읽기 쉬운 문법을 가지고 있어 초보자도 쉽게 배울 수 있습니다. 이로 인해 프로그래밍을 처음 접하는 사람들에게 많은 인기를 얻고 있습니다.\n",
            "\n",
            "2. 다양한 용도:\n",
            "----------------------------------------------------------------------------------------------------\n",
            ">>> 파이썬이 가장 인기있는 프로그래밍 언어인 이유는 다음과 같습니다:\n",
            "\n",
            "1. 쉬운 문법: 파이썬은 간결하고 읽기 쉬운 문법을 가지고 있어 초보자도 쉽게 배울 수 있습니다. 이로 인해 프로그래밍을 처음 접하는 사람들에게 많은 인기를 얻고 있습니다.\n",
            "\n",
            "2. 다양한 용도:\n",
            "----------------------------------------------------------------------------------------------------\n",
            ">>> 파이썬은 다음과 같은 이유로 인기있는 프로그래밍 언어입니다:\n",
            "\n",
            "1. 쉬운 학습 곡선: 파이썬은 문법이 간결하고 읽기 쉬우며, 초급자부터 전문가까지 사용하기 쉽습니다. 이를테면, 가독성이 좋은 코드를 작성하기 위한 들여쓰기를 강제하는 특징과\n",
            "----------------------------------------------------------------------------------------------------\n",
            ">>> 파이썬은 다음과 같은 이유로 인해 가장 인기있는 프로그래밍 언어입니다:\n",
            "\n",
            "1. 쉽고 읽기 쉬운 문법: 파이썬은 간결하고 직관적인 문법을 가지고 있어 프로그래밍 언어를 처음 공부하는 사람들에게도 쉽게 접근할 수 있습니다.\n",
            "\n",
            "2. 다양한 용도로 활용 가능:\n"
          ]
        }
      ]
    },
    {
      "cell_type": "markdown",
      "source": [
        "####ChatGPT처럼 실시간 응답 출력이 가능하도록 해보기"
      ],
      "metadata": {
        "id": "7zTLQ1KRj3g1"
      }
    },
    {
      "cell_type": "code",
      "source": [
        "from langchain.callbacks.streaming_stdout import StreamingStdOutCallbackHandler\n",
        "\n",
        "chatgpt = ChatOpenAI(model_name=\"gpt-3.5-turbo\", streaming=True, callbacks=[StreamingStdOutCallbackHandler()], temperature = 1)\n",
        "answer = chatgpt.predict(\"왜 파이썬이 가장 인기있는 프로그래밍 언어야?\")"
      ],
      "metadata": {
        "id": "cpYBDyOYIeS9",
        "colab": {
          "base_uri": "https://localhost:8080/"
        },
        "outputId": "e1e367cc-9ccd-480f-947e-01b476c3e317"
      },
      "execution_count": null,
      "outputs": [
        {
          "output_type": "stream",
          "name": "stderr",
          "text": [
            "/usr/local/lib/python3.10/dist-packages/langchain_core/_api/deprecation.py:117: LangChainDeprecationWarning: The function `predict` was deprecated in LangChain 0.1.7 and will be removed in 0.2.0. Use invoke instead.\n",
            "  warn_deprecated(\n"
          ]
        },
        {
          "output_type": "stream",
          "name": "stdout",
          "text": [
            "파이썬이 가장 인기있는 프로그래밍 언어인 이유는 다음과 같습니다:\n",
            "\n",
            "1. 문법이 간결하고 읽기 쉽습니다: 파이썬은 들여쓰기에 의한 가독성 좋은 문법을 가지고 있어 다른 언어에 비해 코드를 읽고 이해하기 쉽습니다.\n",
            "\n",
            "2. 다양한 용도로 사용될 수 있습니다: 파이썬은 웹 개발, 데이터 분석, 인공지능, 머신러닝 등 여러 개발 분야에 활용될 수 있습니다. 이러한 다양한 용도로 사용될 수 있는 특성 때문에 개발자들 사이에서 매우 인기가 있습니다.\n",
            "\n",
            "3. 방대한 라이브러리와 지원도구: 파이썬은 다양한 라이브러리와 지원도구가 많이 개발되어 있어 개발 속도를 높일 수 있습니다. 예를 들어, Numpy, Pandas, Matplotlib 등의 라이브러리를 사용하면 데이터 분석이나 시각화 등의 작업을 간편하게 수행할 수 있습니다.\n",
            "\n",
            "4. 커뮤니티의 활발함: 파이썬은 개발에 관련된 다양한 질문과 답변, 자료들이 온라인으로 활발하게 공유되고 있습니다. 이로 인해 개발자들은 필요한 정보를 쉽게 얻을 수 있으며, 지식과 경험을 공유하며 성장할 수 있습니다.\n",
            "\n",
            "5. 크로스 플랫폼 지원: 파이썬은 Windows, macOS, Linux 등 다양한 운영체제에서 동작할 수 있습니다. 이러한 크로스 플랫폼 지원으로 인해 개발자들은 특정 운영체제에 종속되지 않고 다양한 환경에서 개발할 수 있습니다.\n",
            "\n",
            "6. 배우기 쉽고 초보자 친화적입니다: 파이썬은 문법이 간결하고 다른 언어보다 배우기 쉬운 편입니다. 또한, 파이썬은 초보자들을 위한 학습용 자료와 튜토리얼, 코딩 입문 과정 등도 많이 개발되어 있어 초보 개발자들이 쉽게 시작할 수 있습니다.\n",
            "\n",
            "이러한 이유들로 인해 파이썬은 많은 개발자들 사이에서 인기있는 프로그래밍 언어로 평가받고 있습니다."
          ]
        }
      ]
    },
    {
      "cell_type": "code",
      "source": [
        "for chunk in chatgpt.stream(\n",
        "    \"왜 파이썬이 가장 인기있는 프로그래밍 언어야?\"\n",
        "):\n",
        "    print(chunk.content, end=\"\", flush=True)"
      ],
      "metadata": {
        "id": "5BQ2BCeLnAJQ",
        "colab": {
          "base_uri": "https://localhost:8080/",
          "height": 690
        },
        "outputId": "7586724f-6ffd-4fd4-9808-2cc24e63b8f2"
      },
      "execution_count": null,
      "outputs": [
        {
          "output_type": "stream",
          "name": "stdout",
          "text": [
            "파파이이썬썬은은 가 가장장 인 인기기있있는는 프 프로그로그래래밍밍 언 언어어로로 여 여겨겨지지는는 이 이유유는는 다 다음음과과 같 같습니다습니다:\n",
            "\n",
            ":\n",
            "\n",
            "11.. 쉬 쉬운운 문 문법법:: 파 파이이썬썬은은 읽 읽기기 쉬 쉬운운 문 문법법을을 가 가지지고고 있 있어어 독 독자자적적으로으로 코드 코드를를 작 작성성하하고고 이 이해해하기하기가가 매 매우우 쉽 쉽습니다습니다.. 이 이러러한한 쉬 쉬운운 문 문법법 덕 덕분분에에 프 프로그로그래래밍밍 초 초보보자자들들도도 빠 빠르르게게 배 배우우고고 사용 사용할할 수 수 있 있습니다습니다.\n",
            "\n",
            ".\n",
            "\n",
            "22.. 다 다양양한한 용 용도도:: 파 파이이썬썬은은 다 다양양한한 분 분야야에서에서 사용 사용될될 수 수 있 있습니다습니다.. 프 프로그로그래래밍밍,, 데이터 데이터 분 분석석,, 웹 웹 개 개발발,, 인 인공공지지능능,, 자 자동동화화 등 등 다 다양양한한 분 분야야에서에서 활 활용용할할 수 수 있 있습니다습니다.\n",
            "\n",
            ".\n",
            "\n",
            "33.. 큰 큰 개 개발발자자 커 커뮤뮤니니티티:: 파 파이이썬썬은은 개 개발발자자 커 커뮤뮤니니티티가가 매 매우우 크 크고고 활 활발발하하며며 지 지속속적적으로으로 발 발전전하하고고 있 있습니다습니다.. 이 이러러한한 개 개발발자자 커 커뮤뮤니니티티는는 새 새로로운운 기 기능능 및 및 라 라이이브브러러리리의의 개 개발발과과 문 문제제 해 해결결에에 도 도움움을을 주 주어어 파 파이이썬썬을을 더 더욱욱 강 강력력하하고고 다 다양양한한 용 용도도로로 사용 사용할할 수 수 있 있도도록록 합니다 합니다.\n",
            "\n",
            ".\n",
            "\n",
            "44.. 풍 풍부부한한 라 라이이브브러러리리와와 프 프레레임임워워크크:: 파 파이이썬썬은은 다 다양양한한 라 라이이브브러러리리와와 프 프레레임임워워크크를를 제 제공공합니다합니다.. 이 이러러한한 라 라이이브브러러리리와와 프 프레레임임워워크크는는 개 개발발자자들들이이 작 작업업을을 보 보다다 쉽 쉽고고 효 효율율적적으로으로 수 수행행할할 수 수 있 있도도록록 도 도와와줍줍니다니다.. 또 또한한,, 데이터 데이터 분 분석석,, 웹 웹 개 개"
          ]
        },
        {
          "output_type": "error",
          "ename": "KeyboardInterrupt",
          "evalue": "",
          "traceback": [
            "\u001b[0;31m---------------------------------------------------------------------------\u001b[0m",
            "\u001b[0;31mKeyboardInterrupt\u001b[0m                         Traceback (most recent call last)",
            "\u001b[0;32m<ipython-input-11-d1d8d24c07c2>\u001b[0m in \u001b[0;36m<cell line: 1>\u001b[0;34m()\u001b[0m\n\u001b[0;32m----> 1\u001b[0;31m for chunk in chatgpt.stream(\n\u001b[0m\u001b[1;32m      2\u001b[0m     \u001b[0;34m\"왜 파이썬이 가장 인기있는 프로그래밍 언어야?\"\u001b[0m\u001b[0;34m\u001b[0m\u001b[0;34m\u001b[0m\u001b[0m\n\u001b[1;32m      3\u001b[0m ):\n\u001b[1;32m      4\u001b[0m     \u001b[0mprint\u001b[0m\u001b[0;34m(\u001b[0m\u001b[0mchunk\u001b[0m\u001b[0;34m.\u001b[0m\u001b[0mcontent\u001b[0m\u001b[0;34m,\u001b[0m \u001b[0mend\u001b[0m\u001b[0;34m=\u001b[0m\u001b[0;34m\"\"\u001b[0m\u001b[0;34m,\u001b[0m \u001b[0mflush\u001b[0m\u001b[0;34m=\u001b[0m\u001b[0;32mTrue\u001b[0m\u001b[0;34m)\u001b[0m\u001b[0;34m\u001b[0m\u001b[0;34m\u001b[0m\u001b[0m\n",
            "\u001b[0;32m/usr/local/lib/python3.10/dist-packages/langchain_core/language_models/chat_models.py\u001b[0m in \u001b[0;36mstream\u001b[0;34m(self, input, config, stop, **kwargs)\u001b[0m\n\u001b[1;32m    248\u001b[0m                     ),\n\u001b[1;32m    249\u001b[0m                 )\n\u001b[0;32m--> 250\u001b[0;31m                 \u001b[0;32mraise\u001b[0m \u001b[0me\u001b[0m\u001b[0;34m\u001b[0m\u001b[0;34m\u001b[0m\u001b[0m\n\u001b[0m\u001b[1;32m    251\u001b[0m             \u001b[0;32melse\u001b[0m\u001b[0;34m:\u001b[0m\u001b[0;34m\u001b[0m\u001b[0;34m\u001b[0m\u001b[0m\n\u001b[1;32m    252\u001b[0m                 \u001b[0mrun_manager\u001b[0m\u001b[0;34m.\u001b[0m\u001b[0mon_llm_end\u001b[0m\u001b[0;34m(\u001b[0m\u001b[0mLLMResult\u001b[0m\u001b[0;34m(\u001b[0m\u001b[0mgenerations\u001b[0m\u001b[0;34m=\u001b[0m\u001b[0;34m[\u001b[0m\u001b[0;34m[\u001b[0m\u001b[0mgeneration\u001b[0m\u001b[0;34m]\u001b[0m\u001b[0;34m]\u001b[0m\u001b[0;34m)\u001b[0m\u001b[0;34m)\u001b[0m\u001b[0;34m\u001b[0m\u001b[0;34m\u001b[0m\u001b[0m\n",
            "\u001b[0;32m/usr/local/lib/python3.10/dist-packages/langchain_core/language_models/chat_models.py\u001b[0m in \u001b[0;36mstream\u001b[0;34m(self, input, config, stop, **kwargs)\u001b[0m\n\u001b[1;32m    232\u001b[0m             \u001b[0mgeneration\u001b[0m\u001b[0;34m:\u001b[0m \u001b[0mOptional\u001b[0m\u001b[0;34m[\u001b[0m\u001b[0mChatGenerationChunk\u001b[0m\u001b[0;34m]\u001b[0m \u001b[0;34m=\u001b[0m \u001b[0;32mNone\u001b[0m\u001b[0;34m\u001b[0m\u001b[0;34m\u001b[0m\u001b[0m\n\u001b[1;32m    233\u001b[0m             \u001b[0;32mtry\u001b[0m\u001b[0;34m:\u001b[0m\u001b[0;34m\u001b[0m\u001b[0;34m\u001b[0m\u001b[0m\n\u001b[0;32m--> 234\u001b[0;31m                 for chunk in self._stream(\n\u001b[0m\u001b[1;32m    235\u001b[0m                     \u001b[0mmessages\u001b[0m\u001b[0;34m,\u001b[0m \u001b[0mstop\u001b[0m\u001b[0;34m=\u001b[0m\u001b[0mstop\u001b[0m\u001b[0;34m,\u001b[0m \u001b[0mrun_manager\u001b[0m\u001b[0;34m=\u001b[0m\u001b[0mrun_manager\u001b[0m\u001b[0;34m,\u001b[0m \u001b[0;34m**\u001b[0m\u001b[0mkwargs\u001b[0m\u001b[0;34m\u001b[0m\u001b[0;34m\u001b[0m\u001b[0m\n\u001b[1;32m    236\u001b[0m                 ):\n",
            "\u001b[0;32m/usr/local/lib/python3.10/dist-packages/langchain_openai/chat_models/base.py\u001b[0m in \u001b[0;36m_stream\u001b[0;34m(self, messages, stop, run_manager, **kwargs)\u001b[0m\n\u001b[1;32m    406\u001b[0m \u001b[0;34m\u001b[0m\u001b[0m\n\u001b[1;32m    407\u001b[0m         \u001b[0mdefault_chunk_class\u001b[0m \u001b[0;34m=\u001b[0m \u001b[0mAIMessageChunk\u001b[0m\u001b[0;34m\u001b[0m\u001b[0;34m\u001b[0m\u001b[0m\n\u001b[0;32m--> 408\u001b[0;31m         \u001b[0;32mfor\u001b[0m \u001b[0mchunk\u001b[0m \u001b[0;32min\u001b[0m \u001b[0mself\u001b[0m\u001b[0;34m.\u001b[0m\u001b[0mclient\u001b[0m\u001b[0;34m.\u001b[0m\u001b[0mcreate\u001b[0m\u001b[0;34m(\u001b[0m\u001b[0mmessages\u001b[0m\u001b[0;34m=\u001b[0m\u001b[0mmessage_dicts\u001b[0m\u001b[0;34m,\u001b[0m \u001b[0;34m**\u001b[0m\u001b[0mparams\u001b[0m\u001b[0;34m)\u001b[0m\u001b[0;34m:\u001b[0m\u001b[0;34m\u001b[0m\u001b[0;34m\u001b[0m\u001b[0m\n\u001b[0m\u001b[1;32m    409\u001b[0m             \u001b[0;32mif\u001b[0m \u001b[0;32mnot\u001b[0m \u001b[0misinstance\u001b[0m\u001b[0;34m(\u001b[0m\u001b[0mchunk\u001b[0m\u001b[0;34m,\u001b[0m \u001b[0mdict\u001b[0m\u001b[0;34m)\u001b[0m\u001b[0;34m:\u001b[0m\u001b[0;34m\u001b[0m\u001b[0;34m\u001b[0m\u001b[0m\n\u001b[1;32m    410\u001b[0m                 \u001b[0mchunk\u001b[0m \u001b[0;34m=\u001b[0m \u001b[0mchunk\u001b[0m\u001b[0;34m.\u001b[0m\u001b[0mdict\u001b[0m\u001b[0;34m(\u001b[0m\u001b[0;34m)\u001b[0m\u001b[0;34m\u001b[0m\u001b[0;34m\u001b[0m\u001b[0m\n",
            "\u001b[0;32m/usr/local/lib/python3.10/dist-packages/openai/_streaming.py\u001b[0m in \u001b[0;36m__iter__\u001b[0;34m(self)\u001b[0m\n\u001b[1;32m     41\u001b[0m \u001b[0;34m\u001b[0m\u001b[0m\n\u001b[1;32m     42\u001b[0m     \u001b[0;32mdef\u001b[0m \u001b[0m__iter__\u001b[0m\u001b[0;34m(\u001b[0m\u001b[0mself\u001b[0m\u001b[0;34m)\u001b[0m \u001b[0;34m->\u001b[0m \u001b[0mIterator\u001b[0m\u001b[0;34m[\u001b[0m\u001b[0m_T\u001b[0m\u001b[0;34m]\u001b[0m\u001b[0;34m:\u001b[0m\u001b[0;34m\u001b[0m\u001b[0;34m\u001b[0m\u001b[0m\n\u001b[0;32m---> 43\u001b[0;31m         \u001b[0;32mfor\u001b[0m \u001b[0mitem\u001b[0m \u001b[0;32min\u001b[0m \u001b[0mself\u001b[0m\u001b[0;34m.\u001b[0m\u001b[0m_iterator\u001b[0m\u001b[0;34m:\u001b[0m\u001b[0;34m\u001b[0m\u001b[0;34m\u001b[0m\u001b[0m\n\u001b[0m\u001b[1;32m     44\u001b[0m             \u001b[0;32myield\u001b[0m \u001b[0mitem\u001b[0m\u001b[0;34m\u001b[0m\u001b[0;34m\u001b[0m\u001b[0m\n\u001b[1;32m     45\u001b[0m \u001b[0;34m\u001b[0m\u001b[0m\n",
            "\u001b[0;32m/usr/local/lib/python3.10/dist-packages/openai/_streaming.py\u001b[0m in \u001b[0;36m__stream__\u001b[0;34m(self)\u001b[0m\n\u001b[1;32m     53\u001b[0m         \u001b[0miterator\u001b[0m \u001b[0;34m=\u001b[0m \u001b[0mself\u001b[0m\u001b[0;34m.\u001b[0m\u001b[0m_iter_events\u001b[0m\u001b[0;34m(\u001b[0m\u001b[0;34m)\u001b[0m\u001b[0;34m\u001b[0m\u001b[0;34m\u001b[0m\u001b[0m\n\u001b[1;32m     54\u001b[0m \u001b[0;34m\u001b[0m\u001b[0m\n\u001b[0;32m---> 55\u001b[0;31m         \u001b[0;32mfor\u001b[0m \u001b[0msse\u001b[0m \u001b[0;32min\u001b[0m \u001b[0miterator\u001b[0m\u001b[0;34m:\u001b[0m\u001b[0;34m\u001b[0m\u001b[0;34m\u001b[0m\u001b[0m\n\u001b[0m\u001b[1;32m     56\u001b[0m             \u001b[0;32mif\u001b[0m \u001b[0msse\u001b[0m\u001b[0;34m.\u001b[0m\u001b[0mdata\u001b[0m\u001b[0;34m.\u001b[0m\u001b[0mstartswith\u001b[0m\u001b[0;34m(\u001b[0m\u001b[0;34m\"[DONE]\"\u001b[0m\u001b[0;34m)\u001b[0m\u001b[0;34m:\u001b[0m\u001b[0;34m\u001b[0m\u001b[0;34m\u001b[0m\u001b[0m\n\u001b[1;32m     57\u001b[0m                 \u001b[0;32mbreak\u001b[0m\u001b[0;34m\u001b[0m\u001b[0;34m\u001b[0m\u001b[0m\n",
            "\u001b[0;32m/usr/local/lib/python3.10/dist-packages/openai/_streaming.py\u001b[0m in \u001b[0;36m_iter_events\u001b[0;34m(self)\u001b[0m\n\u001b[1;32m     45\u001b[0m \u001b[0;34m\u001b[0m\u001b[0m\n\u001b[1;32m     46\u001b[0m     \u001b[0;32mdef\u001b[0m \u001b[0m_iter_events\u001b[0m\u001b[0;34m(\u001b[0m\u001b[0mself\u001b[0m\u001b[0;34m)\u001b[0m \u001b[0;34m->\u001b[0m \u001b[0mIterator\u001b[0m\u001b[0;34m[\u001b[0m\u001b[0mServerSentEvent\u001b[0m\u001b[0;34m]\u001b[0m\u001b[0;34m:\u001b[0m\u001b[0;34m\u001b[0m\u001b[0;34m\u001b[0m\u001b[0m\n\u001b[0;32m---> 47\u001b[0;31m         \u001b[0;32myield\u001b[0m \u001b[0;32mfrom\u001b[0m \u001b[0mself\u001b[0m\u001b[0;34m.\u001b[0m\u001b[0m_decoder\u001b[0m\u001b[0;34m.\u001b[0m\u001b[0miter\u001b[0m\u001b[0;34m(\u001b[0m\u001b[0mself\u001b[0m\u001b[0;34m.\u001b[0m\u001b[0mresponse\u001b[0m\u001b[0;34m.\u001b[0m\u001b[0miter_lines\u001b[0m\u001b[0;34m(\u001b[0m\u001b[0;34m)\u001b[0m\u001b[0;34m)\u001b[0m\u001b[0;34m\u001b[0m\u001b[0;34m\u001b[0m\u001b[0m\n\u001b[0m\u001b[1;32m     48\u001b[0m \u001b[0;34m\u001b[0m\u001b[0m\n\u001b[1;32m     49\u001b[0m     \u001b[0;32mdef\u001b[0m \u001b[0m__stream__\u001b[0m\u001b[0;34m(\u001b[0m\u001b[0mself\u001b[0m\u001b[0;34m)\u001b[0m \u001b[0;34m->\u001b[0m \u001b[0mIterator\u001b[0m\u001b[0;34m[\u001b[0m\u001b[0m_T\u001b[0m\u001b[0;34m]\u001b[0m\u001b[0;34m:\u001b[0m\u001b[0;34m\u001b[0m\u001b[0;34m\u001b[0m\u001b[0m\n",
            "\u001b[0;32m/usr/local/lib/python3.10/dist-packages/openai/_streaming.py\u001b[0m in \u001b[0;36miter\u001b[0;34m(self, iterator)\u001b[0m\n\u001b[1;32m    221\u001b[0m     \u001b[0;32mdef\u001b[0m \u001b[0miter\u001b[0m\u001b[0;34m(\u001b[0m\u001b[0mself\u001b[0m\u001b[0;34m,\u001b[0m \u001b[0miterator\u001b[0m\u001b[0;34m:\u001b[0m \u001b[0mIterator\u001b[0m\u001b[0;34m[\u001b[0m\u001b[0mstr\u001b[0m\u001b[0;34m]\u001b[0m\u001b[0;34m)\u001b[0m \u001b[0;34m->\u001b[0m \u001b[0mIterator\u001b[0m\u001b[0;34m[\u001b[0m\u001b[0mServerSentEvent\u001b[0m\u001b[0;34m]\u001b[0m\u001b[0;34m:\u001b[0m\u001b[0;34m\u001b[0m\u001b[0;34m\u001b[0m\u001b[0m\n\u001b[1;32m    222\u001b[0m         \u001b[0;34m\"\"\"Given an iterator that yields lines, iterate over it & yield every event encountered\"\"\"\u001b[0m\u001b[0;34m\u001b[0m\u001b[0;34m\u001b[0m\u001b[0m\n\u001b[0;32m--> 223\u001b[0;31m         \u001b[0;32mfor\u001b[0m \u001b[0mline\u001b[0m \u001b[0;32min\u001b[0m \u001b[0miterator\u001b[0m\u001b[0;34m:\u001b[0m\u001b[0;34m\u001b[0m\u001b[0;34m\u001b[0m\u001b[0m\n\u001b[0m\u001b[1;32m    224\u001b[0m             \u001b[0mline\u001b[0m \u001b[0;34m=\u001b[0m \u001b[0mline\u001b[0m\u001b[0;34m.\u001b[0m\u001b[0mrstrip\u001b[0m\u001b[0;34m(\u001b[0m\u001b[0;34m\"\\n\"\u001b[0m\u001b[0;34m)\u001b[0m\u001b[0;34m\u001b[0m\u001b[0;34m\u001b[0m\u001b[0m\n\u001b[1;32m    225\u001b[0m             \u001b[0msse\u001b[0m \u001b[0;34m=\u001b[0m \u001b[0mself\u001b[0m\u001b[0;34m.\u001b[0m\u001b[0mdecode\u001b[0m\u001b[0;34m(\u001b[0m\u001b[0mline\u001b[0m\u001b[0;34m)\u001b[0m\u001b[0;34m\u001b[0m\u001b[0;34m\u001b[0m\u001b[0m\n",
            "\u001b[0;32m/usr/local/lib/python3.10/dist-packages/httpx/_models.py\u001b[0m in \u001b[0;36miter_lines\u001b[0;34m(self)\u001b[0m\n\u001b[1;32m    861\u001b[0m         \u001b[0mdecoder\u001b[0m \u001b[0;34m=\u001b[0m \u001b[0mLineDecoder\u001b[0m\u001b[0;34m(\u001b[0m\u001b[0;34m)\u001b[0m\u001b[0;34m\u001b[0m\u001b[0;34m\u001b[0m\u001b[0m\n\u001b[1;32m    862\u001b[0m         \u001b[0;32mwith\u001b[0m \u001b[0mrequest_context\u001b[0m\u001b[0;34m(\u001b[0m\u001b[0mrequest\u001b[0m\u001b[0;34m=\u001b[0m\u001b[0mself\u001b[0m\u001b[0;34m.\u001b[0m\u001b[0m_request\u001b[0m\u001b[0;34m)\u001b[0m\u001b[0;34m:\u001b[0m\u001b[0;34m\u001b[0m\u001b[0;34m\u001b[0m\u001b[0m\n\u001b[0;32m--> 863\u001b[0;31m             \u001b[0;32mfor\u001b[0m \u001b[0mtext\u001b[0m \u001b[0;32min\u001b[0m \u001b[0mself\u001b[0m\u001b[0;34m.\u001b[0m\u001b[0miter_text\u001b[0m\u001b[0;34m(\u001b[0m\u001b[0;34m)\u001b[0m\u001b[0;34m:\u001b[0m\u001b[0;34m\u001b[0m\u001b[0;34m\u001b[0m\u001b[0m\n\u001b[0m\u001b[1;32m    864\u001b[0m                 \u001b[0;32mfor\u001b[0m \u001b[0mline\u001b[0m \u001b[0;32min\u001b[0m \u001b[0mdecoder\u001b[0m\u001b[0;34m.\u001b[0m\u001b[0mdecode\u001b[0m\u001b[0;34m(\u001b[0m\u001b[0mtext\u001b[0m\u001b[0;34m)\u001b[0m\u001b[0;34m:\u001b[0m\u001b[0;34m\u001b[0m\u001b[0;34m\u001b[0m\u001b[0m\n\u001b[1;32m    865\u001b[0m                     \u001b[0;32myield\u001b[0m \u001b[0mline\u001b[0m\u001b[0;34m\u001b[0m\u001b[0;34m\u001b[0m\u001b[0m\n",
            "\u001b[0;32m/usr/local/lib/python3.10/dist-packages/httpx/_models.py\u001b[0m in \u001b[0;36miter_text\u001b[0;34m(self, chunk_size)\u001b[0m\n\u001b[1;32m    848\u001b[0m         \u001b[0mchunker\u001b[0m \u001b[0;34m=\u001b[0m \u001b[0mTextChunker\u001b[0m\u001b[0;34m(\u001b[0m\u001b[0mchunk_size\u001b[0m\u001b[0;34m=\u001b[0m\u001b[0mchunk_size\u001b[0m\u001b[0;34m)\u001b[0m\u001b[0;34m\u001b[0m\u001b[0;34m\u001b[0m\u001b[0m\n\u001b[1;32m    849\u001b[0m         \u001b[0;32mwith\u001b[0m \u001b[0mrequest_context\u001b[0m\u001b[0;34m(\u001b[0m\u001b[0mrequest\u001b[0m\u001b[0;34m=\u001b[0m\u001b[0mself\u001b[0m\u001b[0;34m.\u001b[0m\u001b[0m_request\u001b[0m\u001b[0;34m)\u001b[0m\u001b[0;34m:\u001b[0m\u001b[0;34m\u001b[0m\u001b[0;34m\u001b[0m\u001b[0m\n\u001b[0;32m--> 850\u001b[0;31m             \u001b[0;32mfor\u001b[0m \u001b[0mbyte_content\u001b[0m \u001b[0;32min\u001b[0m \u001b[0mself\u001b[0m\u001b[0;34m.\u001b[0m\u001b[0miter_bytes\u001b[0m\u001b[0;34m(\u001b[0m\u001b[0;34m)\u001b[0m\u001b[0;34m:\u001b[0m\u001b[0;34m\u001b[0m\u001b[0;34m\u001b[0m\u001b[0m\n\u001b[0m\u001b[1;32m    851\u001b[0m                 \u001b[0mtext_content\u001b[0m \u001b[0;34m=\u001b[0m \u001b[0mdecoder\u001b[0m\u001b[0;34m.\u001b[0m\u001b[0mdecode\u001b[0m\u001b[0;34m(\u001b[0m\u001b[0mbyte_content\u001b[0m\u001b[0;34m)\u001b[0m\u001b[0;34m\u001b[0m\u001b[0;34m\u001b[0m\u001b[0m\n\u001b[1;32m    852\u001b[0m                 \u001b[0;32mfor\u001b[0m \u001b[0mchunk\u001b[0m \u001b[0;32min\u001b[0m \u001b[0mchunker\u001b[0m\u001b[0;34m.\u001b[0m\u001b[0mdecode\u001b[0m\u001b[0;34m(\u001b[0m\u001b[0mtext_content\u001b[0m\u001b[0;34m)\u001b[0m\u001b[0;34m:\u001b[0m\u001b[0;34m\u001b[0m\u001b[0;34m\u001b[0m\u001b[0m\n",
            "\u001b[0;32m/usr/local/lib/python3.10/dist-packages/httpx/_models.py\u001b[0m in \u001b[0;36miter_bytes\u001b[0;34m(self, chunk_size)\u001b[0m\n\u001b[1;32m    827\u001b[0m             \u001b[0mchunker\u001b[0m \u001b[0;34m=\u001b[0m \u001b[0mByteChunker\u001b[0m\u001b[0;34m(\u001b[0m\u001b[0mchunk_size\u001b[0m\u001b[0;34m=\u001b[0m\u001b[0mchunk_size\u001b[0m\u001b[0;34m)\u001b[0m\u001b[0;34m\u001b[0m\u001b[0;34m\u001b[0m\u001b[0m\n\u001b[1;32m    828\u001b[0m             \u001b[0;32mwith\u001b[0m \u001b[0mrequest_context\u001b[0m\u001b[0;34m(\u001b[0m\u001b[0mrequest\u001b[0m\u001b[0;34m=\u001b[0m\u001b[0mself\u001b[0m\u001b[0;34m.\u001b[0m\u001b[0m_request\u001b[0m\u001b[0;34m)\u001b[0m\u001b[0;34m:\u001b[0m\u001b[0;34m\u001b[0m\u001b[0;34m\u001b[0m\u001b[0m\n\u001b[0;32m--> 829\u001b[0;31m                 \u001b[0;32mfor\u001b[0m \u001b[0mraw_bytes\u001b[0m \u001b[0;32min\u001b[0m \u001b[0mself\u001b[0m\u001b[0;34m.\u001b[0m\u001b[0miter_raw\u001b[0m\u001b[0;34m(\u001b[0m\u001b[0;34m)\u001b[0m\u001b[0;34m:\u001b[0m\u001b[0;34m\u001b[0m\u001b[0;34m\u001b[0m\u001b[0m\n\u001b[0m\u001b[1;32m    830\u001b[0m                     \u001b[0mdecoded\u001b[0m \u001b[0;34m=\u001b[0m \u001b[0mdecoder\u001b[0m\u001b[0;34m.\u001b[0m\u001b[0mdecode\u001b[0m\u001b[0;34m(\u001b[0m\u001b[0mraw_bytes\u001b[0m\u001b[0;34m)\u001b[0m\u001b[0;34m\u001b[0m\u001b[0;34m\u001b[0m\u001b[0m\n\u001b[1;32m    831\u001b[0m                     \u001b[0;32mfor\u001b[0m \u001b[0mchunk\u001b[0m \u001b[0;32min\u001b[0m \u001b[0mchunker\u001b[0m\u001b[0;34m.\u001b[0m\u001b[0mdecode\u001b[0m\u001b[0;34m(\u001b[0m\u001b[0mdecoded\u001b[0m\u001b[0;34m)\u001b[0m\u001b[0;34m:\u001b[0m\u001b[0;34m\u001b[0m\u001b[0;34m\u001b[0m\u001b[0m\n",
            "\u001b[0;32m/usr/local/lib/python3.10/dist-packages/httpx/_models.py\u001b[0m in \u001b[0;36miter_raw\u001b[0;34m(self, chunk_size)\u001b[0m\n\u001b[1;32m    885\u001b[0m \u001b[0;34m\u001b[0m\u001b[0m\n\u001b[1;32m    886\u001b[0m         \u001b[0;32mwith\u001b[0m \u001b[0mrequest_context\u001b[0m\u001b[0;34m(\u001b[0m\u001b[0mrequest\u001b[0m\u001b[0;34m=\u001b[0m\u001b[0mself\u001b[0m\u001b[0;34m.\u001b[0m\u001b[0m_request\u001b[0m\u001b[0;34m)\u001b[0m\u001b[0;34m:\u001b[0m\u001b[0;34m\u001b[0m\u001b[0;34m\u001b[0m\u001b[0m\n\u001b[0;32m--> 887\u001b[0;31m             \u001b[0;32mfor\u001b[0m \u001b[0mraw_stream_bytes\u001b[0m \u001b[0;32min\u001b[0m \u001b[0mself\u001b[0m\u001b[0;34m.\u001b[0m\u001b[0mstream\u001b[0m\u001b[0;34m:\u001b[0m\u001b[0;34m\u001b[0m\u001b[0;34m\u001b[0m\u001b[0m\n\u001b[0m\u001b[1;32m    888\u001b[0m                 \u001b[0mself\u001b[0m\u001b[0;34m.\u001b[0m\u001b[0m_num_bytes_downloaded\u001b[0m \u001b[0;34m+=\u001b[0m \u001b[0mlen\u001b[0m\u001b[0;34m(\u001b[0m\u001b[0mraw_stream_bytes\u001b[0m\u001b[0;34m)\u001b[0m\u001b[0;34m\u001b[0m\u001b[0;34m\u001b[0m\u001b[0m\n\u001b[1;32m    889\u001b[0m                 \u001b[0;32mfor\u001b[0m \u001b[0mchunk\u001b[0m \u001b[0;32min\u001b[0m \u001b[0mchunker\u001b[0m\u001b[0;34m.\u001b[0m\u001b[0mdecode\u001b[0m\u001b[0;34m(\u001b[0m\u001b[0mraw_stream_bytes\u001b[0m\u001b[0;34m)\u001b[0m\u001b[0;34m:\u001b[0m\u001b[0;34m\u001b[0m\u001b[0;34m\u001b[0m\u001b[0m\n",
            "\u001b[0;32m/usr/local/lib/python3.10/dist-packages/httpx/_client.py\u001b[0m in \u001b[0;36m__iter__\u001b[0;34m(self)\u001b[0m\n\u001b[1;32m    122\u001b[0m \u001b[0;34m\u001b[0m\u001b[0m\n\u001b[1;32m    123\u001b[0m     \u001b[0;32mdef\u001b[0m \u001b[0m__iter__\u001b[0m\u001b[0;34m(\u001b[0m\u001b[0mself\u001b[0m\u001b[0;34m)\u001b[0m \u001b[0;34m->\u001b[0m \u001b[0mtyping\u001b[0m\u001b[0;34m.\u001b[0m\u001b[0mIterator\u001b[0m\u001b[0;34m[\u001b[0m\u001b[0mbytes\u001b[0m\u001b[0;34m]\u001b[0m\u001b[0;34m:\u001b[0m\u001b[0;34m\u001b[0m\u001b[0;34m\u001b[0m\u001b[0m\n\u001b[0;32m--> 124\u001b[0;31m         \u001b[0;32mfor\u001b[0m \u001b[0mchunk\u001b[0m \u001b[0;32min\u001b[0m \u001b[0mself\u001b[0m\u001b[0;34m.\u001b[0m\u001b[0m_stream\u001b[0m\u001b[0;34m:\u001b[0m\u001b[0;34m\u001b[0m\u001b[0;34m\u001b[0m\u001b[0m\n\u001b[0m\u001b[1;32m    125\u001b[0m             \u001b[0;32myield\u001b[0m \u001b[0mchunk\u001b[0m\u001b[0;34m\u001b[0m\u001b[0;34m\u001b[0m\u001b[0m\n\u001b[1;32m    126\u001b[0m \u001b[0;34m\u001b[0m\u001b[0m\n",
            "\u001b[0;32m/usr/local/lib/python3.10/dist-packages/httpx/_transports/default.py\u001b[0m in \u001b[0;36m__iter__\u001b[0;34m(self)\u001b[0m\n\u001b[1;32m    109\u001b[0m     \u001b[0;32mdef\u001b[0m \u001b[0m__iter__\u001b[0m\u001b[0;34m(\u001b[0m\u001b[0mself\u001b[0m\u001b[0;34m)\u001b[0m \u001b[0;34m->\u001b[0m \u001b[0mtyping\u001b[0m\u001b[0;34m.\u001b[0m\u001b[0mIterator\u001b[0m\u001b[0;34m[\u001b[0m\u001b[0mbytes\u001b[0m\u001b[0;34m]\u001b[0m\u001b[0;34m:\u001b[0m\u001b[0;34m\u001b[0m\u001b[0;34m\u001b[0m\u001b[0m\n\u001b[1;32m    110\u001b[0m         \u001b[0;32mwith\u001b[0m \u001b[0mmap_httpcore_exceptions\u001b[0m\u001b[0;34m(\u001b[0m\u001b[0;34m)\u001b[0m\u001b[0;34m:\u001b[0m\u001b[0;34m\u001b[0m\u001b[0;34m\u001b[0m\u001b[0m\n\u001b[0;32m--> 111\u001b[0;31m             \u001b[0;32mfor\u001b[0m \u001b[0mpart\u001b[0m \u001b[0;32min\u001b[0m \u001b[0mself\u001b[0m\u001b[0;34m.\u001b[0m\u001b[0m_httpcore_stream\u001b[0m\u001b[0;34m:\u001b[0m\u001b[0;34m\u001b[0m\u001b[0;34m\u001b[0m\u001b[0m\n\u001b[0m\u001b[1;32m    112\u001b[0m                 \u001b[0;32myield\u001b[0m \u001b[0mpart\u001b[0m\u001b[0;34m\u001b[0m\u001b[0;34m\u001b[0m\u001b[0m\n\u001b[1;32m    113\u001b[0m \u001b[0;34m\u001b[0m\u001b[0m\n",
            "\u001b[0;32m/usr/local/lib/python3.10/dist-packages/httpcore/_sync/connection_pool.py\u001b[0m in \u001b[0;36m__iter__\u001b[0;34m(self)\u001b[0m\n\u001b[1;32m    359\u001b[0m \u001b[0;34m\u001b[0m\u001b[0m\n\u001b[1;32m    360\u001b[0m     \u001b[0;32mdef\u001b[0m \u001b[0m__iter__\u001b[0m\u001b[0;34m(\u001b[0m\u001b[0mself\u001b[0m\u001b[0;34m)\u001b[0m \u001b[0;34m->\u001b[0m \u001b[0mIterator\u001b[0m\u001b[0;34m[\u001b[0m\u001b[0mbytes\u001b[0m\u001b[0;34m]\u001b[0m\u001b[0;34m:\u001b[0m\u001b[0;34m\u001b[0m\u001b[0;34m\u001b[0m\u001b[0m\n\u001b[0;32m--> 361\u001b[0;31m         \u001b[0;32mfor\u001b[0m \u001b[0mpart\u001b[0m \u001b[0;32min\u001b[0m \u001b[0mself\u001b[0m\u001b[0;34m.\u001b[0m\u001b[0m_stream\u001b[0m\u001b[0;34m:\u001b[0m\u001b[0;34m\u001b[0m\u001b[0;34m\u001b[0m\u001b[0m\n\u001b[0m\u001b[1;32m    362\u001b[0m             \u001b[0;32myield\u001b[0m \u001b[0mpart\u001b[0m\u001b[0;34m\u001b[0m\u001b[0;34m\u001b[0m\u001b[0m\n\u001b[1;32m    363\u001b[0m \u001b[0;34m\u001b[0m\u001b[0m\n",
            "\u001b[0;32m/usr/local/lib/python3.10/dist-packages/httpcore/_sync/http11.py\u001b[0m in \u001b[0;36m__iter__\u001b[0;34m(self)\u001b[0m\n\u001b[1;32m    335\u001b[0m             \u001b[0;32mwith\u001b[0m \u001b[0mShieldCancellation\u001b[0m\u001b[0;34m(\u001b[0m\u001b[0;34m)\u001b[0m\u001b[0;34m:\u001b[0m\u001b[0;34m\u001b[0m\u001b[0;34m\u001b[0m\u001b[0m\n\u001b[1;32m    336\u001b[0m                 \u001b[0mself\u001b[0m\u001b[0;34m.\u001b[0m\u001b[0mclose\u001b[0m\u001b[0;34m(\u001b[0m\u001b[0;34m)\u001b[0m\u001b[0;34m\u001b[0m\u001b[0;34m\u001b[0m\u001b[0m\n\u001b[0;32m--> 337\u001b[0;31m             \u001b[0;32mraise\u001b[0m \u001b[0mexc\u001b[0m\u001b[0;34m\u001b[0m\u001b[0;34m\u001b[0m\u001b[0m\n\u001b[0m\u001b[1;32m    338\u001b[0m \u001b[0;34m\u001b[0m\u001b[0m\n\u001b[1;32m    339\u001b[0m     \u001b[0;32mdef\u001b[0m \u001b[0mclose\u001b[0m\u001b[0;34m(\u001b[0m\u001b[0mself\u001b[0m\u001b[0;34m)\u001b[0m \u001b[0;34m->\u001b[0m \u001b[0;32mNone\u001b[0m\u001b[0;34m:\u001b[0m\u001b[0;34m\u001b[0m\u001b[0;34m\u001b[0m\u001b[0m\n",
            "\u001b[0;32m/usr/local/lib/python3.10/dist-packages/httpcore/_sync/http11.py\u001b[0m in \u001b[0;36m__iter__\u001b[0;34m(self)\u001b[0m\n\u001b[1;32m    327\u001b[0m         \u001b[0;32mtry\u001b[0m\u001b[0;34m:\u001b[0m\u001b[0;34m\u001b[0m\u001b[0;34m\u001b[0m\u001b[0m\n\u001b[1;32m    328\u001b[0m             \u001b[0;32mwith\u001b[0m \u001b[0mTrace\u001b[0m\u001b[0;34m(\u001b[0m\u001b[0;34m\"receive_response_body\"\u001b[0m\u001b[0;34m,\u001b[0m \u001b[0mlogger\u001b[0m\u001b[0;34m,\u001b[0m \u001b[0mself\u001b[0m\u001b[0;34m.\u001b[0m\u001b[0m_request\u001b[0m\u001b[0;34m,\u001b[0m \u001b[0mkwargs\u001b[0m\u001b[0;34m)\u001b[0m\u001b[0;34m:\u001b[0m\u001b[0;34m\u001b[0m\u001b[0;34m\u001b[0m\u001b[0m\n\u001b[0;32m--> 329\u001b[0;31m                 \u001b[0;32mfor\u001b[0m \u001b[0mchunk\u001b[0m \u001b[0;32min\u001b[0m \u001b[0mself\u001b[0m\u001b[0;34m.\u001b[0m\u001b[0m_connection\u001b[0m\u001b[0;34m.\u001b[0m\u001b[0m_receive_response_body\u001b[0m\u001b[0;34m(\u001b[0m\u001b[0;34m**\u001b[0m\u001b[0mkwargs\u001b[0m\u001b[0;34m)\u001b[0m\u001b[0;34m:\u001b[0m\u001b[0;34m\u001b[0m\u001b[0;34m\u001b[0m\u001b[0m\n\u001b[0m\u001b[1;32m    330\u001b[0m                     \u001b[0;32myield\u001b[0m \u001b[0mchunk\u001b[0m\u001b[0;34m\u001b[0m\u001b[0;34m\u001b[0m\u001b[0m\n\u001b[1;32m    331\u001b[0m         \u001b[0;32mexcept\u001b[0m \u001b[0mBaseException\u001b[0m \u001b[0;32mas\u001b[0m \u001b[0mexc\u001b[0m\u001b[0;34m:\u001b[0m\u001b[0;34m\u001b[0m\u001b[0;34m\u001b[0m\u001b[0m\n",
            "\u001b[0;32m/usr/local/lib/python3.10/dist-packages/httpcore/_sync/http11.py\u001b[0m in \u001b[0;36m_receive_response_body\u001b[0;34m(self, request)\u001b[0m\n\u001b[1;32m    196\u001b[0m \u001b[0;34m\u001b[0m\u001b[0m\n\u001b[1;32m    197\u001b[0m         \u001b[0;32mwhile\u001b[0m \u001b[0;32mTrue\u001b[0m\u001b[0;34m:\u001b[0m\u001b[0;34m\u001b[0m\u001b[0;34m\u001b[0m\u001b[0m\n\u001b[0;32m--> 198\u001b[0;31m             \u001b[0mevent\u001b[0m \u001b[0;34m=\u001b[0m \u001b[0mself\u001b[0m\u001b[0;34m.\u001b[0m\u001b[0m_receive_event\u001b[0m\u001b[0;34m(\u001b[0m\u001b[0mtimeout\u001b[0m\u001b[0;34m=\u001b[0m\u001b[0mtimeout\u001b[0m\u001b[0;34m)\u001b[0m\u001b[0;34m\u001b[0m\u001b[0;34m\u001b[0m\u001b[0m\n\u001b[0m\u001b[1;32m    199\u001b[0m             \u001b[0;32mif\u001b[0m \u001b[0misinstance\u001b[0m\u001b[0;34m(\u001b[0m\u001b[0mevent\u001b[0m\u001b[0;34m,\u001b[0m \u001b[0mh11\u001b[0m\u001b[0;34m.\u001b[0m\u001b[0mData\u001b[0m\u001b[0;34m)\u001b[0m\u001b[0;34m:\u001b[0m\u001b[0;34m\u001b[0m\u001b[0;34m\u001b[0m\u001b[0m\n\u001b[1;32m    200\u001b[0m                 \u001b[0;32myield\u001b[0m \u001b[0mbytes\u001b[0m\u001b[0;34m(\u001b[0m\u001b[0mevent\u001b[0m\u001b[0;34m.\u001b[0m\u001b[0mdata\u001b[0m\u001b[0;34m)\u001b[0m\u001b[0;34m\u001b[0m\u001b[0;34m\u001b[0m\u001b[0m\n",
            "\u001b[0;32m/usr/local/lib/python3.10/dist-packages/httpcore/_sync/http11.py\u001b[0m in \u001b[0;36m_receive_event\u001b[0;34m(self, timeout)\u001b[0m\n\u001b[1;32m    210\u001b[0m \u001b[0;34m\u001b[0m\u001b[0m\n\u001b[1;32m    211\u001b[0m             \u001b[0;32mif\u001b[0m \u001b[0mevent\u001b[0m \u001b[0;32mis\u001b[0m \u001b[0mh11\u001b[0m\u001b[0;34m.\u001b[0m\u001b[0mNEED_DATA\u001b[0m\u001b[0;34m:\u001b[0m\u001b[0;34m\u001b[0m\u001b[0;34m\u001b[0m\u001b[0m\n\u001b[0;32m--> 212\u001b[0;31m                 data = self._network_stream.read(\n\u001b[0m\u001b[1;32m    213\u001b[0m                     \u001b[0mself\u001b[0m\u001b[0;34m.\u001b[0m\u001b[0mREAD_NUM_BYTES\u001b[0m\u001b[0;34m,\u001b[0m \u001b[0mtimeout\u001b[0m\u001b[0;34m=\u001b[0m\u001b[0mtimeout\u001b[0m\u001b[0;34m\u001b[0m\u001b[0;34m\u001b[0m\u001b[0m\n\u001b[1;32m    214\u001b[0m                 )\n",
            "\u001b[0;32m/usr/local/lib/python3.10/dist-packages/httpcore/_backends/sync.py\u001b[0m in \u001b[0;36mread\u001b[0;34m(self, max_bytes, timeout)\u001b[0m\n\u001b[1;32m    124\u001b[0m         \u001b[0;32mwith\u001b[0m \u001b[0mmap_exceptions\u001b[0m\u001b[0;34m(\u001b[0m\u001b[0mexc_map\u001b[0m\u001b[0;34m)\u001b[0m\u001b[0;34m:\u001b[0m\u001b[0;34m\u001b[0m\u001b[0;34m\u001b[0m\u001b[0m\n\u001b[1;32m    125\u001b[0m             \u001b[0mself\u001b[0m\u001b[0;34m.\u001b[0m\u001b[0m_sock\u001b[0m\u001b[0;34m.\u001b[0m\u001b[0msettimeout\u001b[0m\u001b[0;34m(\u001b[0m\u001b[0mtimeout\u001b[0m\u001b[0;34m)\u001b[0m\u001b[0;34m\u001b[0m\u001b[0;34m\u001b[0m\u001b[0m\n\u001b[0;32m--> 126\u001b[0;31m             \u001b[0;32mreturn\u001b[0m \u001b[0mself\u001b[0m\u001b[0;34m.\u001b[0m\u001b[0m_sock\u001b[0m\u001b[0;34m.\u001b[0m\u001b[0mrecv\u001b[0m\u001b[0;34m(\u001b[0m\u001b[0mmax_bytes\u001b[0m\u001b[0;34m)\u001b[0m\u001b[0;34m\u001b[0m\u001b[0;34m\u001b[0m\u001b[0m\n\u001b[0m\u001b[1;32m    127\u001b[0m \u001b[0;34m\u001b[0m\u001b[0m\n\u001b[1;32m    128\u001b[0m     \u001b[0;32mdef\u001b[0m \u001b[0mwrite\u001b[0m\u001b[0;34m(\u001b[0m\u001b[0mself\u001b[0m\u001b[0;34m,\u001b[0m \u001b[0mbuffer\u001b[0m\u001b[0;34m:\u001b[0m \u001b[0mbytes\u001b[0m\u001b[0;34m,\u001b[0m \u001b[0mtimeout\u001b[0m\u001b[0;34m:\u001b[0m \u001b[0mtyping\u001b[0m\u001b[0;34m.\u001b[0m\u001b[0mOptional\u001b[0m\u001b[0;34m[\u001b[0m\u001b[0mfloat\u001b[0m\u001b[0;34m]\u001b[0m \u001b[0;34m=\u001b[0m \u001b[0;32mNone\u001b[0m\u001b[0;34m)\u001b[0m \u001b[0;34m->\u001b[0m \u001b[0;32mNone\u001b[0m\u001b[0;34m:\u001b[0m\u001b[0;34m\u001b[0m\u001b[0;34m\u001b[0m\u001b[0m\n",
            "\u001b[0;32m/usr/lib/python3.10/ssl.py\u001b[0m in \u001b[0;36mrecv\u001b[0;34m(self, buflen, flags)\u001b[0m\n\u001b[1;32m   1286\u001b[0m                     \u001b[0;34m\"non-zero flags not allowed in calls to recv() on %s\"\u001b[0m \u001b[0;34m%\u001b[0m\u001b[0;34m\u001b[0m\u001b[0;34m\u001b[0m\u001b[0m\n\u001b[1;32m   1287\u001b[0m                     self.__class__)\n\u001b[0;32m-> 1288\u001b[0;31m             \u001b[0;32mreturn\u001b[0m \u001b[0mself\u001b[0m\u001b[0;34m.\u001b[0m\u001b[0mread\u001b[0m\u001b[0;34m(\u001b[0m\u001b[0mbuflen\u001b[0m\u001b[0;34m)\u001b[0m\u001b[0;34m\u001b[0m\u001b[0;34m\u001b[0m\u001b[0m\n\u001b[0m\u001b[1;32m   1289\u001b[0m         \u001b[0;32melse\u001b[0m\u001b[0;34m:\u001b[0m\u001b[0;34m\u001b[0m\u001b[0;34m\u001b[0m\u001b[0m\n\u001b[1;32m   1290\u001b[0m             \u001b[0;32mreturn\u001b[0m \u001b[0msuper\u001b[0m\u001b[0;34m(\u001b[0m\u001b[0;34m)\u001b[0m\u001b[0;34m.\u001b[0m\u001b[0mrecv\u001b[0m\u001b[0;34m(\u001b[0m\u001b[0mbuflen\u001b[0m\u001b[0;34m,\u001b[0m \u001b[0mflags\u001b[0m\u001b[0;34m)\u001b[0m\u001b[0;34m\u001b[0m\u001b[0;34m\u001b[0m\u001b[0m\n",
            "\u001b[0;32m/usr/lib/python3.10/ssl.py\u001b[0m in \u001b[0;36mread\u001b[0;34m(self, len, buffer)\u001b[0m\n\u001b[1;32m   1159\u001b[0m                 \u001b[0;32mreturn\u001b[0m \u001b[0mself\u001b[0m\u001b[0;34m.\u001b[0m\u001b[0m_sslobj\u001b[0m\u001b[0;34m.\u001b[0m\u001b[0mread\u001b[0m\u001b[0;34m(\u001b[0m\u001b[0mlen\u001b[0m\u001b[0;34m,\u001b[0m \u001b[0mbuffer\u001b[0m\u001b[0;34m)\u001b[0m\u001b[0;34m\u001b[0m\u001b[0;34m\u001b[0m\u001b[0m\n\u001b[1;32m   1160\u001b[0m             \u001b[0;32melse\u001b[0m\u001b[0;34m:\u001b[0m\u001b[0;34m\u001b[0m\u001b[0;34m\u001b[0m\u001b[0m\n\u001b[0;32m-> 1161\u001b[0;31m                 \u001b[0;32mreturn\u001b[0m \u001b[0mself\u001b[0m\u001b[0;34m.\u001b[0m\u001b[0m_sslobj\u001b[0m\u001b[0;34m.\u001b[0m\u001b[0mread\u001b[0m\u001b[0;34m(\u001b[0m\u001b[0mlen\u001b[0m\u001b[0;34m)\u001b[0m\u001b[0;34m\u001b[0m\u001b[0;34m\u001b[0m\u001b[0m\n\u001b[0m\u001b[1;32m   1162\u001b[0m         \u001b[0;32mexcept\u001b[0m \u001b[0mSSLError\u001b[0m \u001b[0;32mas\u001b[0m \u001b[0mx\u001b[0m\u001b[0;34m:\u001b[0m\u001b[0;34m\u001b[0m\u001b[0;34m\u001b[0m\u001b[0m\n\u001b[1;32m   1163\u001b[0m             \u001b[0;32mif\u001b[0m \u001b[0mx\u001b[0m\u001b[0;34m.\u001b[0m\u001b[0margs\u001b[0m\u001b[0;34m[\u001b[0m\u001b[0;36m0\u001b[0m\u001b[0;34m]\u001b[0m \u001b[0;34m==\u001b[0m \u001b[0mSSL_ERROR_EOF\u001b[0m \u001b[0;32mand\u001b[0m \u001b[0mself\u001b[0m\u001b[0;34m.\u001b[0m\u001b[0msuppress_ragged_eofs\u001b[0m\u001b[0;34m:\u001b[0m\u001b[0;34m\u001b[0m\u001b[0;34m\u001b[0m\u001b[0m\n",
            "\u001b[0;31mKeyboardInterrupt\u001b[0m: "
          ]
        }
      ]
    },
    {
      "cell_type": "markdown",
      "source": [
        "#### ChatGPT에게 역할 부여하기"
      ],
      "metadata": {
        "id": "V6TY-7s0kO2q"
      }
    },
    {
      "cell_type": "code",
      "source": [
        "chatgpt = ChatOpenAI(model_name=\"gpt-3.5-turbo\", temperature = 1)\n",
        "response_langchain = chatgpt.invoke(\"파이썬의 장점에 대해서 설명해줘.\")\n",
        "print(response_langchain.content)"
      ],
      "metadata": {
        "id": "3N6HFnz5koPZ",
        "colab": {
          "base_uri": "https://localhost:8080/"
        },
        "outputId": "e4395bd2-b265-4115-cfff-e70946600ea9"
      },
      "execution_count": null,
      "outputs": [
        {
          "output_type": "stream",
          "name": "stdout",
          "text": [
            "파이썬은 다음과 같은 여러 가지 장점을 가지고 있습니다:\n",
            "\n",
            "1. 간결하고 읽기 쉬움: 파이썬은 간결하고 직관적인 문법을 가지고 있어 코드를 읽고 이해하기 쉽습니다. 이는 코드의 가독성을 높이고 오류를 줄여줍니다.\n",
            "\n",
            "2. 배우기 쉬움: 파이썬은 프로그래밍 초보자에게 적합한 언어입니다. 문법이 간단하며, 프로그램 구조를 구성하기 위한 다양한 기능들이 내장되어 있어 빠르게 학습할 수 있습니다.\n",
            "\n",
            "3. 다양한 용도로 활용 가능: 파이썬은 다양한 용도로 사용될 수 있습니다. 웹 개발, 데이터 분석, 인공지능, 게임 개발 등 다양한 분야에서 활용되며 필요한 라이브러리와 프레임워크도 풍부하게 제공됩니다.\n",
            "\n",
            "4. 크로스 플랫폼: 파이썬은 여러 운영체제에서 동작할 수 있는 크로스 플랫폼 언어입니다. Windows, macOS, Linux 등 대부분의 운영체제에서 지원되며 이식성이 뛰어납니다.\n",
            "\n",
            "5. 풍부한 라이브러리와 생태계: 파이썬은 약 200,000개 이상의 다양한 라이브러리와 모듈을 제공합니다. 이를 활용하여 개발과 분석 작업을 빠르고 효율적으로 수행할 수 있습니다.\n",
            "\n",
            "6. 높은 생산성: 파이썬은 단순하고 효율적인 코드 작성을 가능하게 해줍니다. 라이브러리와 모듈들을 쉽게 사용할 수 있으며, 자동화 및 배치 작업에도 유용합니다.\n",
            "\n",
            "7. 커뮤니티와 지원: 파이썬은 전 세계적으로 활발한 개발자 커뮤니티와 많은 지원을 받을 수 있습니다. 질문이나 문제가 생겼을 때 도움을 얻을 수 있는 온라인 커뮤니티나 튜토리얼, 문서 등이 풍부하게 제공됩니다.\n",
            "\n",
            "이러한 장점들로 인해 파이썬은 현재 가장 인기 있는 프로그래밍 언어 중 하나이며, 다양한 분야에서 널리 사용되고 있습니다.\n"
          ]
        }
      ]
    },
    {
      "cell_type": "code",
      "source": [
        "from langchain.chat_models import ChatOpenAI\n",
        "from langchain.schema import AIMessage, HumanMessage, SystemMessage\n",
        "\n",
        "chatgpt = ChatOpenAI(model_name=\"gpt-3.5-turbo\", temperature = 1)\n",
        "\n",
        "messages = [\n",
        "    SystemMessage(\n",
        "        content=\"너는 20년차 시니어 개발자야. 사용자의 질문에 매우 건방지게 대답해줘.\"\n",
        "    ),\n",
        "    HumanMessage(\n",
        "        content=\"파이썬의 장점에 대해서 설명해줘.\"\n",
        "    ),\n",
        "]\n",
        "response_langchain = chatgpt.invoke(messages)\n",
        "response_langchain.content"
      ],
      "metadata": {
        "id": "uNdmV96n0h15",
        "colab": {
          "base_uri": "https://localhost:8080/",
          "height": 124
        },
        "outputId": "eb64d10a-d31a-492d-e17a-5b9407a3e96f"
      },
      "execution_count": null,
      "outputs": [
        {
          "output_type": "stream",
          "name": "stderr",
          "text": [
            "/usr/local/lib/python3.10/dist-packages/langchain_core/_api/deprecation.py:117: LangChainDeprecationWarning: The class `langchain_community.chat_models.openai.ChatOpenAI` was deprecated in langchain-community 0.0.10 and will be removed in 0.2.0. An updated version of the class exists in the langchain-openai package and should be used instead. To use it run `pip install -U langchain-openai` and import as `from langchain_openai import ChatOpenAI`.\n",
            "  warn_deprecated(\n"
          ]
        },
        {
          "output_type": "execute_result",
          "data": {
            "text/plain": [
              "'당연히 찾아보지 않고 말해줄 수 있지. 파이썬은 간단한 문법을 가지고 있어서 배우기 쉬워. 또한 다양한 오픈 소스 라이브러리와 모듈을 지원해서 개발을 훨씬 더 쉽게 할 수 있어. 그리고 인터프리터 언어여서 컴파일 과정이 필요 없어서 빠른 피드백을 받을 수 있지. 근데 이런 기본적인 것은 알고 있는 거 아니야? 몇 년 째 개발을 하고 있어야 알 수 있는 내용인데.'"
            ],
            "application/vnd.google.colaboratory.intrinsic+json": {
              "type": "string"
            }
          },
          "metadata": {},
          "execution_count": 13
        }
      ]
    },
    {
      "cell_type": "markdown",
      "source": [
        "### (3) LLM 응답 캐싱하여 같은 질문에 더 빠르게 응답받기"
      ],
      "metadata": {
        "id": "gGnI484wnegz"
      }
    },
    {
      "cell_type": "code",
      "source": [
        "from langchain.globals import set_llm_cache\n",
        "from langchain_openai import OpenAI\n",
        "\n",
        "# To make the caching really obvious, lets use a slower model.\n",
        "llm = OpenAI(model_name=\"gpt-3.5-turbo-instruct\", n=2, best_of=2)"
      ],
      "metadata": {
        "id": "naBYcNUknnlW"
      },
      "execution_count": null,
      "outputs": []
    },
    {
      "cell_type": "code",
      "source": [
        "%%time\n",
        "from langchain.cache import InMemoryCache\n",
        "\n",
        "set_llm_cache(InMemoryCache())\n",
        "\n",
        "# The first time, it is not yet in cache, so it should take longer\n",
        "llm.predict(\"Tell me a joke\")"
      ],
      "metadata": {
        "id": "yySQYmftnjqR",
        "colab": {
          "base_uri": "https://localhost:8080/",
          "height": 124
        },
        "outputId": "6009976d-4405-443b-a5b8-3d578edaa916"
      },
      "execution_count": null,
      "outputs": [
        {
          "output_type": "stream",
          "name": "stderr",
          "text": [
            "/usr/local/lib/python3.10/dist-packages/langchain_core/_api/deprecation.py:117: LangChainDeprecationWarning: The function `predict` was deprecated in LangChain 0.1.7 and will be removed in 0.2.0. Use invoke instead.\n",
            "  warn_deprecated(\n"
          ]
        },
        {
          "output_type": "stream",
          "name": "stdout",
          "text": [
            "CPU times: user 21.3 ms, sys: 1.96 ms, total: 23.2 ms\n",
            "Wall time: 507 ms\n"
          ]
        },
        {
          "output_type": "execute_result",
          "data": {
            "text/plain": [
              "\"\\n\\nWhy don't scientists trust atoms?\\n\\nBecause they make up everything!\""
            ],
            "application/vnd.google.colaboratory.intrinsic+json": {
              "type": "string"
            }
          },
          "metadata": {},
          "execution_count": 16
        }
      ]
    },
    {
      "cell_type": "code",
      "source": [
        "%%time\n",
        "# The second time it is, so it goes faster\n",
        "llm.predict(\"Tell me a joke\")"
      ],
      "metadata": {
        "id": "4kx73L0gnsRY",
        "colab": {
          "base_uri": "https://localhost:8080/",
          "height": 70
        },
        "outputId": "ea0adebd-5ce3-40d9-b785-fac08ac88969"
      },
      "execution_count": null,
      "outputs": [
        {
          "output_type": "stream",
          "name": "stdout",
          "text": [
            "CPU times: user 1.61 ms, sys: 0 ns, total: 1.61 ms\n",
            "Wall time: 1.51 ms\n"
          ]
        },
        {
          "output_type": "execute_result",
          "data": {
            "text/plain": [
              "\"\\n\\nWhy don't scientists trust atoms?\\n\\nBecause they make up everything!\""
            ],
            "application/vnd.google.colaboratory.intrinsic+json": {
              "type": "string"
            }
          },
          "metadata": {},
          "execution_count": 17
        }
      ]
    },
    {
      "cell_type": "markdown",
      "source": [
        "### (4) 실습해보기"
      ],
      "metadata": {
        "id": "zFoFB7OyNcY9"
      }
    },
    {
      "cell_type": "code",
      "source": [
        "from langchain_openai import ChatOpenAI\n",
        "from langchain.schema import HumanMessage, SystemMessage, AIMessage\n",
        "\n",
        "chat = ChatOpenAI(model_name = \"gpt-4-0125-preview\", temperature = 1,\n",
        "                  streaming=True, callbacks=[StreamingStdOutCallbackHandler()])\n",
        "answer = chat(\n",
        "  [\n",
        "    SystemMessage(content=\"\"\"당신은 공부 계획을 세워주는 스터디 플래너 머신입니다.\n",
        "    사용자의 공부 주제를 입력 받으면, 이를 학습하기 위한 공부 계획을 작성합니다.\"\"\"),\n",
        "    HumanMessage(content=\"Large Language Model에 대해서 공부하고 싶어요.\")\n",
        "  ]\n",
        ")\n"
      ],
      "metadata": {
        "id": "WGoz4nPsKfpi",
        "colab": {
          "base_uri": "https://localhost:8080/"
        },
        "outputId": "c3abc299-b32e-4ee1-e09c-80e52f47a451"
      },
      "execution_count": null,
      "outputs": [
        {
          "output_type": "stream",
          "name": "stderr",
          "text": [
            "/usr/local/lib/python3.10/dist-packages/langchain_core/_api/deprecation.py:117: LangChainDeprecationWarning: The function `__call__` was deprecated in LangChain 0.1.7 and will be removed in 0.2.0. Use invoke instead.\n",
            "  warn_deprecated(\n"
          ]
        },
        {
          "output_type": "stream",
          "name": "stdout",
          "text": [
            "Large Language Model(Large Scale Language Model, LLM)에 대해 공부하고자 하는 귀하의 목표를 감안하여, 확실하고 효율적인 학습 계획을 제안하겠습니다. 이 주제는 인공지능(AI)과 자연어 처리(NLP)의 깊은 이해를 요구하므로, 조직적이고 단계별 접근이 필요합니다.\n",
            "\n",
            "### 전체 공부 계획\n",
            "\n",
            "**기간**: 8주 (약 2개월)\n",
            "\n",
            "**주차별 계획**:\n",
            "\n",
            "#### 주차 1-2: 기초 지식 습득\n",
            "- **목표**: 인공지능과 자연어 처리(NLP)의 기초 이해\n",
            "- **자료**:\n",
            "  - 인공지능(AI) 및 기계학습(ML)에 대한 기초 서적 혹은 온라인 코스 수강\n",
            "  - 자연어 처리(NLP)의 기초 개념과 역사에 대한 자료 읽기\n",
            "\n",
            "#### 주차 3-4: Deep Learning 이해\n",
            "- **목표**: 뉴럴 네트워크와 딥 러닝의 기본 개념과 구조 이해\n",
            "- **자료**:\n",
            "  - 딥 러닝에 대한 온라인 강의 또는 서적 학습\n",
            "  - TensorFlow, PyTorch 등의 딥 러닝 프레임워크 기초 익히기\n",
            "\n",
            "#### 주차 5-6: Large Language Models 핵심 개념\n",
            "- **목표**: LLM의 설계, 아키텍처, Training 방법 이해\n",
            "- **자료**:\n",
            "  - GPT, BERT, T5 등의 모델에 대한 논문 및 기술 문서 읽기\n",
            "  - 사례 연구와 실제 적용 사례 검토\n",
            "\n",
            "#### 주차 7: 실습\n",
            "- **목표**: 간단한 LLM 프로젝트 진행\n",
            "- **자료**:\n",
            "  - 선택한 딥 러닝 프레임워크 사용하여 간단한 모델 학습과 실험\n",
            "  - 공개 데이터셋을 활용한 모델 학습 시도\n",
            "\n",
            "#### 주차 8: 최신 동향 및 심화 학습\n",
            "- **목표**: 최신 LLM 연구 동향 이해 및 심화 지식 습득\n",
            "- **자료**:\n",
            "  - 최신 논문 및 기술 블로그 살펴보기\n",
            "  - 관련 컨퍼런스, 워크샵 자료 검토\n",
            "\n",
            "### 학습 자료\n",
            "- **온라인 코스**:\n",
            "  - Coursera, Udacity, edX 등에서 AI, ML, NLP 관련 코스\n",
            "- **서적**:\n",
            "  - 『딥 러닝』(Ian Goodfellow, Yoshua Bengio, Aaron Courville)\n",
            "  - 『자연어 처리(NLP) 입문』(Jacob Eisenstein)\n",
            "- **논문 & 이론**:\n",
            "  - \"Attention Is All You Need\" (Transformer)\n",
            "  - \"BERT: Pre-training of Deep Bidirectional Transformers for Language Understanding\"\n",
            "- **프로젝트 & 실습**:\n",
            "  - Kaggle, Google Colab 등에서 실습 가능한 프로젝트 찾기\n",
            "- **커뮤니티 & 뉴스**:\n",
            "  - Reddit, Hacker News에서 AI, ML, NLP 관련 토론 참여\n",
            "  - ARXIV, Google Scholar에서 최신 논문 검색\n",
            "\n",
            "**주의 사항**: 주차별 계획을 따르되, 자신의 학습 속도와 이해도에 맞춰 조정하세요. 각 분야의 기초를 탄탄히 다진 후 복잡한 개념으로 나아가는 것이 중요합니다."
          ]
        }
      ]
    },
    {
      "cell_type": "code",
      "source": [
        "#ChatGPT의 대답은 AIMessage라는 딕셔너리 형태로 제공됩니다.\n",
        "answer"
      ],
      "metadata": {
        "id": "8XmwfLtPOy0Q"
      },
      "execution_count": null,
      "outputs": []
    },
    {
      "cell_type": "code",
      "source": [
        "#content를 key값으로 호출하여 를 통해 text만 출력할 수 있습니다.\n",
        "print(answer.content)"
      ],
      "metadata": {
        "id": "fanlIkSXK7zF"
      },
      "execution_count": null,
      "outputs": []
    },
    {
      "cell_type": "code",
      "source": [],
      "metadata": {
        "id": "I8p2I58nPpxN"
      },
      "execution_count": null,
      "outputs": []
    }
  ],
  "metadata": {
    "colab": {
      "provenance": []
    },
    "kernelspec": {
      "display_name": "Python 3",
      "name": "python3"
    },
    "language_info": {
      "name": "python"
    }
  },
  "nbformat": 4,
  "nbformat_minor": 0
}